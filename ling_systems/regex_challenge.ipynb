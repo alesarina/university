{
 "cells": [
  {
   "cell_type": "markdown",
   "metadata": {},
   "source": [
    "# Regex Challenge"
   ]
  },
  {
   "cell_type": "markdown",
   "metadata": {},
   "source": [
    "https://callumacrae.github.io/regex-tuesday/challenge7.html"
   ]
  },
  {
   "cell_type": "raw",
   "metadata": {},
   "source": [
    "http://example.com/\n",
    "https://example.com/\n",
    "http://www.example.com/\n",
    "http://example.org/\n",
    "http://example.co.uk\n",
    "http://bla.bla.biz\n",
    "http://1.0.0.0.0.0.0.0.0.0.0.0.0.0.0.0.0.0.0.0.0.0.0.0.0.0.0.0.0.0.0.0.ip6.arpa\n",
    "https://boring.museum\n",
    "http://lynx.io/\n",
    "https://example.edu\n",
    "http://example.gov/\n",
    "http://sub.example.cd\n",
    "https://personal.test.me\n",
    "http://0test.com/\n",
    "http://a.b\n",
    "http://this-test.com\n",
    "http://test.this-test.com/\n",
    "http://this-test.test.com\n",
    "http://TESTdomain.com\n",
    "http://abcdefghijklmnopqrstuvwxyz.com\n",
    "example.com\n",
    "\n",
    "\n",
    "www.example.com\n",
    "invalid://example.com\n",
    "httpd://example.com/\n",
    "ahttp://example.com\n",
    "javascript:alert()\n",
    "mailto:nobody@example.com\n",
    "http://test ing.com\n",
    "http://test'ing.com\n",
    "http://test_ing.com\n",
    "http://inval.id,com\n",
    "http://\n",
    "http://.com\n",
    "http://.....com\n",
    "http://example..com\n",
    "http://example.com.\n",
    "http://-example.com\n",
    "http://example-.com\n",
    "http://example.com-\n",
    "http://1234567890123456789012345678901234567890123456789012345678901234.com\n",
    "http://0.0.0.0.0.0.0.0.0.0.0.0.0.0.0.0.0.0.0.0.0.0.0.0.0.0.0.0.0.0.0.0.0.0.0.0.0.0.0.0.0.0.0.0.0.0.0.0.0.0.0.0.0.0.0.0.0.0.0.0.0.0.0.0.0.0.0.0.0.0.0.0.0.0.0.0.0.0.0.0.0.0.0.0.0.0.0.0.0.0.0.0.0.0.0.0.0.0.0.0.0.0.0.0.0.0.0.0.0.0.0.0.0.0.0.0.0.0.0.0.0.0.0.0.0.0.0.com"
   ]
  },
  {
   "cell_type": "raw",
   "metadata": {},
   "source": [
    "(?P<ext>\\.\\w{1,6}/?)+\n",
    "(?P<prot>http[s]?://)[^/.]"
   ]
  },
  {
   "cell_type": "raw",
   "metadata": {},
   "source": [
    "(^http[s]?://\\w+[./-]\\w+[./-]?(?:\\d.{59}|\\w+)?[/.]?(?:com|ip6\\.arpa)?/?$)"
   ]
  }
 ],
 "metadata": {
  "kernelspec": {
   "display_name": "Python 3",
   "language": "python",
   "name": "python3"
  },
  "language_info": {
   "codemirror_mode": {
    "name": "ipython",
    "version": 3
   },
   "file_extension": ".py",
   "mimetype": "text/x-python",
   "name": "python",
   "nbconvert_exporter": "python",
   "pygments_lexer": "ipython3",
   "version": "3.6.4"
  }
 },
 "nbformat": 4,
 "nbformat_minor": 2
}
