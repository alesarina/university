{
 "cells": [
  {
   "cell_type": "code",
   "execution_count": 1,
   "metadata": {},
   "outputs": [
    {
     "ename": "FileNotFoundError",
     "evalue": "[Errno 2] No such file or directory: 'regex_test.txt'",
     "output_type": "error",
     "traceback": [
      "\u001b[1;31m---------------------------------------------------------------------------\u001b[0m",
      "\u001b[1;31mFileNotFoundError\u001b[0m                         Traceback (most recent call last)",
      "\u001b[1;32m<ipython-input-1-a2f09a53b270>\u001b[0m in \u001b[0;36m<module>\u001b[1;34m()\u001b[0m\n\u001b[0;32m     35\u001b[0m \u001b[1;33m\u001b[0m\u001b[0m\n\u001b[0;32m     36\u001b[0m \u001b[1;32mif\u001b[0m \u001b[0m__name__\u001b[0m \u001b[1;33m==\u001b[0m \u001b[1;34m'__main__'\u001b[0m\u001b[1;33m:\u001b[0m\u001b[1;33m\u001b[0m\u001b[0m\n\u001b[1;32m---> 37\u001b[1;33m     \u001b[1;32mwith\u001b[0m \u001b[0mopen\u001b[0m\u001b[1;33m(\u001b[0m\u001b[1;34m\"regex_test.txt\"\u001b[0m\u001b[1;33m,\u001b[0m \u001b[0mencoding\u001b[0m\u001b[1;33m=\u001b[0m\u001b[1;34m\"utf8\"\u001b[0m\u001b[1;33m)\u001b[0m \u001b[1;32mas\u001b[0m \u001b[0mregex_file\u001b[0m\u001b[1;33m:\u001b[0m\u001b[1;33m\u001b[0m\u001b[0m\n\u001b[0m\u001b[0;32m     38\u001b[0m         \u001b[0mtest_task\u001b[0m\u001b[1;33m(\u001b[0m\u001b[0mregex_file\u001b[0m\u001b[1;33m.\u001b[0m\u001b[0mread\u001b[0m\u001b[1;33m(\u001b[0m\u001b[1;33m)\u001b[0m\u001b[1;33m,\u001b[0m \u001b[0mtext_1\u001b[0m\u001b[1;33m)\u001b[0m\u001b[1;33m\u001b[0m\u001b[0m\n",
      "\u001b[1;31mFileNotFoundError\u001b[0m: [Errno 2] No such file or directory: 'regex_test.txt'"
     ]
    }
   ],
   "source": [
    "import re\n",
    "\n",
    "text = '''This is a test\n",
    "This is another test\n",
    "This \"big test\" is a test\n",
    "This \"big test\" is a 'big test'\n",
    "Almost \"this entire\" thing \"is just a\" quote\n",
    "Suzie Smith-Hopper\n",
    "Suzie Smith-Hopper is test\n",
    "Suzie Smith-Hopper is--test\n",
    "This----is--test\n",
    "This-----is-test\n",
    "Don't say anything\n",
    "I can't think\n",
    "This' is a 'test\n",
    "don't tell Suzie Smith-Hopper that I broke Daniel's toy horse\n",
    "I can't see Suzie Smith-Hopper anywhere; can you\n",
    "Too long; didn't read\n",
    "Suzie Smith-Hopper's car was stolen'''\n",
    "\n",
    "text_1 = '''4 234 452,66 с НДС\n",
    "4 234 452,66 без НДС\n",
    "4 234 452.66 с НДС'''\n",
    "\n",
    "\n",
    "def test_task(expression, example_text):\n",
    "    regexp = re.compile(expression, re.VERBOSE | re.IGNORECASE)\n",
    "    for test_string in example_text.split(\"\\n\"):\n",
    "        print(f\"Matching against \\\"{test_string}\\\"\")\n",
    "        match_objects = regexp.finditer(test_string)\n",
    "        # print(regexp.findall(test_string))\n",
    "        for match_obj in match_objects:\n",
    "            print(match_obj.groupdict())\n",
    "\n",
    "\n",
    "if __name__ == '__main__':\n",
    "    with open(\"regex_test.txt\", encoding=\"utf8\") as regex_file:\n",
    "        test_task(regex_file.read(), text_1)"
   ]
  },
  {
   "cell_type": "code",
   "execution_count": null,
   "metadata": {},
   "outputs": [],
   "source": []
  }
 ],
 "metadata": {
  "kernelspec": {
   "display_name": "Python 3",
   "language": "python",
   "name": "python3"
  },
  "language_info": {
   "codemirror_mode": {
    "name": "ipython",
    "version": 3
   },
   "file_extension": ".py",
   "mimetype": "text/x-python",
   "name": "python",
   "nbconvert_exporter": "python",
   "pygments_lexer": "ipython3",
   "version": "3.6.4"
  }
 },
 "nbformat": 4,
 "nbformat_minor": 2
}
