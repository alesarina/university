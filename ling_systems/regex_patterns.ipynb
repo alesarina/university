{
 "cells": [
  {
   "cell_type": "markdown",
   "metadata": {},
   "source": [
    "## Квантификаторы"
   ]
  },
  {
   "cell_type": "markdown",
   "metadata": {},
   "source": [
    ".* - жадный квантификатор   (захватывает максимум символов)  \n",
    ".? - ленивый квантификатор (захватывает минимум символов для мэтча)  \n",
    ".+ - ревнивый квантификатор (\"+\" после любого квантификатора)"
   ]
  },
  {
   "cell_type": "markdown",
   "metadata": {},
   "source": [
    "finditer - возвращает объекты Match с атрибутами"
   ]
  },
  {
   "cell_type": "raw",
   "metadata": {},
   "source": [
    "match_objects = pattern.finditer(text_string)\n",
    "for mo in in match_objects:\n",
    "    print(mo.groupdict()) #возвращает словарь с группами и их мэтчами"
   ]
  },
  {
   "cell_type": "raw",
   "metadata": {},
   "source": [
    "(?P<rubles>\\d[\\d\\s]+) - группа для поиска рублей"
   ]
  },
  {
   "cell_type": "markdown",
   "metadata": {},
   "source": [
    "# Задание"
   ]
  },
  {
   "cell_type": "markdown",
   "metadata": {},
   "source": [
    "Разбить предложения на слова"
   ]
  },
  {
   "cell_type": "markdown",
   "metadata": {},
   "source": [
    "* If words are in quotes, treat them as a single separate token: e.g. *This \"huge test\" is pointless* would be changed to *this,huge test,is,pointless*. This applies to both single quotes and double quotes. \n",
    "* Hyphenated last names (such as *Smith-Hopper*) should be a single token, but words with more hyphens, or hyphens at the beginning or end of the word, should have the hyphens stripped and be treated as separate tokens: *Suzie Smith-Hopper test--hyphens* should be changed to *Suzie,Smith-Hopper,test,hyphens*.   \n",
    "* Contractions should be treated as a single token; *I can't do it* would be changed to *I,can't,do,it*. \n",
    "Punctuation should be removed (but not hyphens and quotes as above); *Too long; didn't read* would turn into *Too,long,didn't,read*."
   ]
  },
  {
   "cell_type": "code",
   "execution_count": null,
   "metadata": {},
   "outputs": [],
   "source": []
  }
 ],
 "metadata": {
  "kernelspec": {
   "display_name": "Python 3",
   "language": "python",
   "name": "python3"
  },
  "language_info": {
   "codemirror_mode": {
    "name": "ipython",
    "version": 3
   },
   "file_extension": ".py",
   "mimetype": "text/x-python",
   "name": "python",
   "nbconvert_exporter": "python",
   "pygments_lexer": "ipython3",
   "version": "3.6.4"
  }
 },
 "nbformat": 4,
 "nbformat_minor": 2
}
