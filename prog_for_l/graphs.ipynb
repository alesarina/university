{
 "cells": [
  {
   "cell_type": "markdown",
   "metadata": {},
   "source": [
    "# Графы"
   ]
  },
  {
   "cell_type": "markdown",
   "metadata": {},
   "source": [
    "**Степень вершины графа** - кол-во ребер, отходящих от вершины  "
   ]
  },
  {
   "cell_type": "markdown",
   "metadata": {},
   "source": [
    "## Задание графа"
   ]
  },
  {
   "cell_type": "markdown",
   "metadata": {},
   "source": [
    "Через матрицу: набор векторов.  \n",
    "Каждый вектор состоит из 0 (между вершинами нет ребра) и 1 (между вершинами есть ребро).  \n",
    "Для экономии памяти: сохраняем только номера вершин, с которыми связаны"
   ]
  },
  {
   "cell_type": "raw",
   "metadata": {},
   "source": [
    "0: [1,6] - вершина 0 связана с вершинами 1 и 6\n",
    "1: [0,2,3]"
   ]
  },
  {
   "cell_type": "markdown",
   "metadata": {},
   "source": [
    "## Обход графа"
   ]
  },
  {
   "cell_type": "markdown",
   "metadata": {},
   "source": [
    "Идем от корня > находим связанную вершну > переходим на нее > ищем связанную вершину > ... > если связанной вершины нет (конец), возвращаемся на уровень назад"
   ]
  },
  {
   "cell_type": "code",
   "execution_count": 14,
   "metadata": {},
   "outputs": [],
   "source": [
    "tree = {}\n",
    "tree[0] = [1, 6]\n",
    "tree[1] = [0, 2, 3]\n",
    "tree[2] = [1]\n",
    "tree[3] = [1]\n",
    "tree[4] = [6]\n",
    "tree[5] = [6]\n",
    "tree[6] = [0, 4, 5]"
   ]
  },
  {
   "cell_type": "markdown",
   "metadata": {},
   "source": [
    "берем вершину  \n",
    ">если у вершины только 1 сосед **и** он совпадает с предыдущей (той, что уже есть в списке на вывод):  \n",
    "\n",
    "заносим текущую вершину в список **и** возвращаемся к соседу\n",
    "\n",
    ">если у вершины только 1 сосед **и** он новый:\n",
    "\n",
    "заносим текущую вершину в список **и** идем к этому соседу\n",
    "\n",
    ">если у вершины несколько соседей:\n",
    "\n",
    "для каждого проверяем условия 1 и 2\n"
   ]
  },
  {
   "cell_type": "markdown",
   "metadata": {},
   "source": [
    "## Поиск в ширину"
   ]
  },
  {
   "cell_type": "code",
   "execution_count": 7,
   "metadata": {},
   "outputs": [
    {
     "data": {
      "text/plain": [
       "[0, 1, 6, 2, 3, 4, 5]"
      ]
     },
     "execution_count": 7,
     "metadata": {},
     "output_type": "execute_result"
    }
   ],
   "source": [
    "def find_next(graph, k):\n",
    "    for i in graph[k]:\n",
    "        if i not in points:\n",
    "            points.append(i)\n",
    "        nxt = graph[i]\n",
    "    return nxt\n",
    "\n",
    "points=[]\n",
    "for k in tree.keys():\n",
    "    if k not in points:\n",
    "        points.append(k)\n",
    "    find_next(tree, k)\n",
    "\n",
    "points"
   ]
  },
  {
   "cell_type": "markdown",
   "metadata": {},
   "source": [
    "## Поиск в глубину"
   ]
  },
  {
   "cell_type": "code",
   "execution_count": 22,
   "metadata": {},
   "outputs": [],
   "source": [
    "visited = []\n",
    "\n",
    "def find_nxt(graph, node, visited):\n",
    "    visited.append(node)\n",
    "    for next in graph[node]:\n",
    "        if next not in visited:\n",
    "            visited = find_nxt(graph, next, visited)\n",
    "    return visited"
   ]
  },
  {
   "cell_type": "code",
   "execution_count": 23,
   "metadata": {},
   "outputs": [
    {
     "data": {
      "text/plain": [
       "[0, 1, 2, 3, 6, 4, 5]"
      ]
     },
     "execution_count": 23,
     "metadata": {},
     "output_type": "execute_result"
    }
   ],
   "source": [
    "find_nxt(tree, 0, visited)"
   ]
  },
  {
   "cell_type": "code",
   "execution_count": null,
   "metadata": {},
   "outputs": [],
   "source": []
  }
 ],
 "metadata": {
  "kernelspec": {
   "display_name": "Python 3",
   "language": "python",
   "name": "python3"
  },
  "language_info": {
   "codemirror_mode": {
    "name": "ipython",
    "version": 3
   },
   "file_extension": ".py",
   "mimetype": "text/x-python",
   "name": "python",
   "nbconvert_exporter": "python",
   "pygments_lexer": "ipython3",
   "version": "3.6.4"
  }
 },
 "nbformat": 4,
 "nbformat_minor": 2
}
