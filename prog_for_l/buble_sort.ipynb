{
 "cells": [
  {
   "cell_type": "code",
   "execution_count": 1,
   "metadata": {},
   "outputs": [],
   "source": [
    "nums = [1, 23, 65, 3, 45, 677, 0, -5, 98, -10, 1, 34, -100, -2, 789, 0, 44, -28, -0.8]"
   ]
  },
  {
   "cell_type": "code",
   "execution_count": 2,
   "metadata": {},
   "outputs": [],
   "source": [
    "def compare(pair):\n",
    "    if pair[0] > pair[1]:\n",
    "        pair = (pair[1], pair[0])\n",
    "    else:\n",
    "        pass\n",
    "    return pair"
   ]
  },
  {
   "cell_type": "code",
   "execution_count": 3,
   "metadata": {},
   "outputs": [],
   "source": [
    "def buble_sort(nums):\n",
    "    for i in range(len(nums)-1):\n",
    "        sorted_n = compare((nums[i], nums[i+1]))\n",
    "        nums[i] = sorted_n[0]\n",
    "        nums[i+1] = sorted_n[1]\n",
    "    return nums"
   ]
  },
  {
   "cell_type": "code",
   "execution_count": 4,
   "metadata": {},
   "outputs": [],
   "source": [
    "def sort_nums(nums):\n",
    "    buble_sort(nums)\n",
    "    for i in range(0, len(nums)-1):\n",
    "        if nums[i] <= nums[i+1]:\n",
    "            cor = True\n",
    "        else:\n",
    "            cor = False\n",
    "            break\n",
    "    if cor == False:\n",
    "        sort_nums(nums)\n",
    "    return nums"
   ]
  },
  {
   "cell_type": "code",
   "execution_count": 7,
   "metadata": {},
   "outputs": [
    {
     "data": {
      "text/plain": [
       "[-100, -28, -10, -5, -2, -0.8, 0, 0, 1, 1, 3, 23, 34, 44, 45, 65, 98, 677, 789]"
      ]
     },
     "execution_count": 7,
     "metadata": {},
     "output_type": "execute_result"
    }
   ],
   "source": [
    "sort_nums(nums)"
   ]
  },
  {
   "cell_type": "code",
   "execution_count": null,
   "metadata": {},
   "outputs": [],
   "source": []
  }
 ],
 "metadata": {
  "kernelspec": {
   "display_name": "Python 3",
   "language": "python",
   "name": "python3"
  },
  "language_info": {
   "codemirror_mode": {
    "name": "ipython",
    "version": 3
   },
   "file_extension": ".py",
   "mimetype": "text/x-python",
   "name": "python",
   "nbconvert_exporter": "python",
   "pygments_lexer": "ipython3",
   "version": "3.4.3"
  }
 },
 "nbformat": 4,
 "nbformat_minor": 2
}
