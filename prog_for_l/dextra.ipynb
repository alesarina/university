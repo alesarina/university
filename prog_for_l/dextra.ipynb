{
 "cells": [
  {
   "cell_type": "code",
   "execution_count": 6,
   "metadata": {},
   "outputs": [],
   "source": [
    "graph = {1:[{2:7}, {3:9}, {6:14}], 2:[{1:7}, {3:10}, {4:15}], 3:[{1:9}, {2:10}, {4:11}, {6:2}], 4:[{3:11}, {5:6}],\n",
    "        5:[{4:6}, {6:9}], 6:[{1:14}, {3:2}, {5:9}]}"
   ]
  },
  {
   "cell_type": "code",
   "execution_count": 14,
   "metadata": {},
   "outputs": [],
   "source": [
    "graph = [{1: 7, 2: 9, 5: 14},{0: 7, 2: 10, 3: 15},{0: 9, 1: 10, 3: 11, 5: 2},{1: 15, 2: 11, 4: 6},{3: 6, 5: 9},{0: 14, 2: 2, 4: 9}]"
   ]
  },
  {
   "cell_type": "code",
   "execution_count": 29,
   "metadata": {},
   "outputs": [
    {
     "data": {
      "text/plain": [
       "[{1: 7, 2: 9, 5: 14},\n",
       " {0: 7, 2: 10, 3: 15},\n",
       " {0: 9, 1: 10, 3: 11, 5: 2},\n",
       " {1: 15, 2: 11, 4: 6},\n",
       " {3: 6, 5: 9},\n",
       " {0: 14, 2: 2, 4: 9}]"
      ]
     },
     "execution_count": 29,
     "metadata": {},
     "output_type": "execute_result"
    }
   ],
   "source": [
    "graph"
   ]
  },
  {
   "cell_type": "code",
   "execution_count": 8,
   "metadata": {},
   "outputs": [],
   "source": [
    "weights_0 = {1:0, 2:float('inf'), 3:float('inf'), 4:float('inf'), 5:float('inf'), 6:float('inf')}"
   ]
  },
  {
   "cell_type": "code",
   "execution_count": 9,
   "metadata": {},
   "outputs": [],
   "source": [
    "#take node 1\n",
    "for root in graph[1]:\n",
    "    weights_0[list(root.keys())[0]] = list(root.values())[0]"
   ]
  },
  {
   "cell_type": "code",
   "execution_count": 10,
   "metadata": {},
   "outputs": [
    {
     "data": {
      "text/plain": [
       "{1: 0, 2: 7, 3: 9, 4: inf, 5: inf, 6: 14}"
      ]
     },
     "execution_count": 10,
     "metadata": {},
     "output_type": "execute_result"
    }
   ],
   "source": [
    "weights_0"
   ]
  },
  {
   "cell_type": "code",
   "execution_count": 36,
   "metadata": {},
   "outputs": [],
   "source": [
    "def dxtr(graph, fst_node=0, weights={}, visited=[]):\n",
    "    if len(weights) == 0: \n",
    "        weights[fst_node] = 0 \n",
    "    for x in graph[fst_node]:       \n",
    "        if x not in visited and x != fst_node:   \n",
    "            if x not in weights.keys() or (graph[fst_node][x] + weights[fst_node]) < weights[x]: \n",
    "                weights[x] = graph[fst_node][x] + weights[fst_node] \n",
    "    visited.append(fst_node)\n",
    "\n",
    "    min_weight = 0\n",
    "    min_x = None\n",
    "    for x in weights:\n",
    "        if weights[x] < min_weight or min_weight == 0:\n",
    "            if x not in visited:\n",
    "                min_x = x\n",
    "                min_weight = weights[x]\n",
    "\n",
    "    if len(visited)<len(graph) and min_x:\n",
    "        return dxtr(graph, min_x, weights, visited)\n",
    "    else:\n",
    "        return weights"
   ]
  },
  {
   "cell_type": "code",
   "execution_count": 37,
   "metadata": {},
   "outputs": [
    {
     "data": {
      "text/plain": [
       "{0: 0, 1: 7, 2: 9, 5: 11, 3: 20, 4: 20}"
      ]
     },
     "execution_count": 37,
     "metadata": {},
     "output_type": "execute_result"
    }
   ],
   "source": [
    "dxtr(graph)"
   ]
  },
  {
   "cell_type": "code",
   "execution_count": null,
   "metadata": {},
   "outputs": [],
   "source": []
  }
 ],
 "metadata": {
  "kernelspec": {
   "display_name": "Python 3",
   "language": "python",
   "name": "python3"
  },
  "language_info": {
   "codemirror_mode": {
    "name": "ipython",
    "version": 3
   },
   "file_extension": ".py",
   "mimetype": "text/x-python",
   "name": "python",
   "nbconvert_exporter": "python",
   "pygments_lexer": "ipython3",
   "version": "3.6.4"
  }
 },
 "nbformat": 4,
 "nbformat_minor": 2
}
