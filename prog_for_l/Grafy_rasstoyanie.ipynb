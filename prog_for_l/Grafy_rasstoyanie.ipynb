{
 "cells": [
  {
   "cell_type": "code",
   "execution_count": 1,
   "metadata": {},
   "outputs": [],
   "source": [
    "tree = [\n",
    "        {1: 7, 2: 9, 5: 14},\n",
    "        {0: 7, 2: 10, 3: 15},\n",
    "        {0: 9, 1: 10, 3: 11, 5: 2},\n",
    "        {1: 15, 2: 11, 4: 6},\n",
    "        {3: 6, 5: 9},\n",
    "        {0: 14, 2: 2, 4: 9},\n",
    "    ]\n",
    "start = 0"
   ]
  },
  {
   "cell_type": "code",
   "execution_count": 2,
   "metadata": {},
   "outputs": [],
   "source": [
    "def distance(tree, start, path={}, visited=[]):\n",
    "    if len(path) == 0: \n",
    "        path[start] = 0 \n",
    "    for x in tree[start]:       \n",
    "        if (x not in visited and x != start):   \n",
    "            if (x not in path.keys() or (tree[start][x] + path[start]) < path[x]): \n",
    "                path[x] = tree[start][x] + path[start] \n",
    "                # print(str(x) + ': ' + str(p[x]))\n",
    "    \n",
    "    visited.append(start)\n",
    "\n",
    "    min_value = 0\n",
    "    min_x = None\n",
    "    for x in path:\n",
    "        if (path[x] < min_value or min_value == 0) and x not in visited:\n",
    "                min_x = x\n",
    "                min_value = path[x]\n",
    "\n",
    "    if(len(visited) < len(tree) and min_x):\n",
    "        return distance(tree, min_x, path, visited)\n",
    "    else:\n",
    "        return path"
   ]
  },
  {
   "cell_type": "code",
   "execution_count": 3,
   "metadata": {},
   "outputs": [
    {
     "name": "stdout",
     "output_type": "stream",
     "text": [
      "{0: 0, 1: 7, 2: 9, 5: 11, 3: 20, 4: 20}\n"
     ]
    }
   ],
   "source": [
    "for i in range(1):\n",
    "    print (distance(tree, start))"
   ]
  },
  {
   "cell_type": "code",
   "execution_count": null,
   "metadata": {},
   "outputs": [],
   "source": []
  }
 ],
 "metadata": {
  "kernelspec": {
   "display_name": "Python 3",
   "language": "python",
   "name": "python3"
  },
  "language_info": {
   "codemirror_mode": {
    "name": "ipython",
    "version": 3
   },
   "file_extension": ".py",
   "mimetype": "text/x-python",
   "name": "python",
   "nbconvert_exporter": "python",
   "pygments_lexer": "ipython3",
   "version": "3.6.4"
  }
 },
 "nbformat": 4,
 "nbformat_minor": 2
}
