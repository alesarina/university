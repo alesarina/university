{
 "cells": [
  {
   "cell_type": "markdown",
   "metadata": {},
   "source": [
    "## Программируем улиточку"
   ]
  },
  {
   "cell_type": "code",
   "execution_count": 1,
   "metadata": {},
   "outputs": [],
   "source": [
    "n = int(input())"
   ]
  },
  {
   "cell_type": "code",
   "execution_count": 2,
   "metadata": {},
   "outputs": [
    {
     "data": {
      "text/plain": [
       "[[0, 0, 0, 0, 0],\n",
       " [0, 0, 0, 0, 0],\n",
       " [0, 0, 0, 0, 0],\n",
       " [0, 0, 0, 0, 0],\n",
       " [0, 0, 0, 0, 0]]"
      ]
     },
     "execution_count": 2,
     "metadata": {},
     "output_type": "execute_result"
    }
   ],
   "source": [
    "matr = []\n",
    "for i in range(n):\n",
    "    matr.append([0]*n)\n",
    "matr"
   ]
  },
  {
   "cell_type": "code",
   "execution_count": 24,
   "metadata": {},
   "outputs": [],
   "source": [
    "def go_hor(matr, l, i, reverse):\n",
    "    new_line = []\n",
    "    input_i = i\n",
    "    line = matr[l]\n",
    "    #if reverse:\n",
    "        #i = len(matr)+i-1\n",
    "    input_i += line.count(0)\n",
    "    for el in line:\n",
    "        if 0 in line:\n",
    "            if reverse:\n",
    "                ind = line[::-1].index(0)\n",
    "                idx = len(line)-1-ind\n",
    "                line[idx] = i\n",
    "                line = line[:idx]+line[idx:]\n",
    "                i += 1\n",
    "            else:\n",
    "                ind = line.index(0)\n",
    "                line[ind] = i\n",
    "                if ind == len(line):\n",
    "                    line = line[:-1]\n",
    "                else:\n",
    "                    line = line[:ind]+line[ind:]\n",
    "                i += 1\n",
    "        else:\n",
    "            break\n",
    "            \n",
    "    return line, input_i"
   ]
  },
  {
   "cell_type": "code",
   "execution_count": 10,
   "metadata": {},
   "outputs": [
    {
     "data": {
      "text/plain": [
       "([1, 2, 3, 4, 5], 6)"
      ]
     },
     "execution_count": 10,
     "metadata": {},
     "output_type": "execute_result"
    }
   ],
   "source": [
    "go_hor(matr, -1, 1, False)"
   ]
  },
  {
   "cell_type": "code",
   "execution_count": 46,
   "metadata": {},
   "outputs": [],
   "source": [
    "def go_vert(matr, i, left_side):\n",
    "    new_matr = []\n",
    "    input_i = i\n",
    "    if left_side:\n",
    "        i = len(matr)+i-2\n",
    "        input_i += len(matr)\n",
    "        for line in matr:\n",
    "            if 0 in line:\n",
    "                ind = line.index(0)\n",
    "                line[ind] = i\n",
    "                new_line = line[:ind]+line[ind:]\n",
    "                i = i-1\n",
    "            else:\n",
    "                new_line = line\n",
    "                i = i-1\n",
    "            new_matr.append(new_line)\n",
    "    else:\n",
    "        for line in matr:\n",
    "            if 0 in line:\n",
    "                ind = line[::-1].index(0)\n",
    "                idx = len(line)-1-ind\n",
    "                line[idx] = i\n",
    "                new_line = line[:idx]+line[idx:]\n",
    "                i += 1\n",
    "            else:\n",
    "                new_line = line\n",
    "            new_matr.append(new_line)\n",
    "        input_i = i\n",
    "    return new_matr, input_i"
   ]
  },
  {
   "cell_type": "code",
   "execution_count": 128,
   "metadata": {},
   "outputs": [
    {
     "data": {
      "text/plain": [
       "([[0, 0, 0, 6, 1],\n",
       "  [0, 0, 0, 7, 2],\n",
       "  [0, 0, 0, 8, 3],\n",
       "  [0, 0, 0, 9, 4],\n",
       "  [0, 0, 0, 10, 5]],\n",
       " 11)"
      ]
     },
     "execution_count": 128,
     "metadata": {},
     "output_type": "execute_result"
    }
   ],
   "source": [
    "go_vert(matr, 6, False)"
   ]
  },
  {
   "cell_type": "code",
   "execution_count": 18,
   "metadata": {},
   "outputs": [],
   "source": [
    "import numpy as np\n",
    "np_matr = np.array(matr)"
   ]
  },
  {
   "cell_type": "code",
   "execution_count": 19,
   "metadata": {},
   "outputs": [
    {
     "data": {
      "text/plain": [
       "25"
      ]
     },
     "execution_count": 19,
     "metadata": {},
     "output_type": "execute_result"
    }
   ],
   "source": [
    "np.size(np_matr)"
   ]
  },
  {
   "cell_type": "code",
   "execution_count": 67,
   "metadata": {},
   "outputs": [
    {
     "data": {
      "text/plain": [
       "[[1, 2, 3, 4, 5],\n",
       " [0, 0, 0, 0, 0],\n",
       " [0, 0, 0, 0, 0],\n",
       " [0, 0, 0, 0, 0],\n",
       " [0, 0, 0, 0, 0]]"
      ]
     },
     "execution_count": 67,
     "metadata": {},
     "output_type": "execute_result"
    }
   ],
   "source": [
    "op1 = go_hor(matr[0],1,False)\n",
    "matr[0] = op1[0]\n",
    "matr"
   ]
  },
  {
   "cell_type": "code",
   "execution_count": 73,
   "metadata": {},
   "outputs": [
    {
     "data": {
      "text/plain": [
       "([[0, 0, 0, 0, 6], [0, 0, 0, 0, 7], [0, 0, 0, 0, 8], [0, 0, 0, 0, 9]], 6)"
      ]
     },
     "execution_count": 73,
     "metadata": {},
     "output_type": "execute_result"
    }
   ],
   "source": [
    "op2 = go_vert(matr, 6, False)\n",
    "op2"
   ]
  },
  {
   "cell_type": "code",
   "execution_count": 61,
   "metadata": {},
   "outputs": [
    {
     "data": {
      "text/plain": [
       "[[0, 0, 0, 0, 0],\n",
       " [0, 0, 0, 0, 0],\n",
       " [0, 0, 0, 0, 0],\n",
       " [0, 0, 0, 0, 0],\n",
       " [0, 0, 0, 0, 0]]"
      ]
     },
     "execution_count": 61,
     "metadata": {},
     "output_type": "execute_result"
    }
   ],
   "source": [
    "matr = []\n",
    "for i in range(n):\n",
    "    matr.append([0]*n)\n",
    "matr"
   ]
  },
  {
   "cell_type": "code",
   "execution_count": 62,
   "metadata": {},
   "outputs": [
    {
     "data": {
      "text/plain": [
       "[[1, 2, 3, 4, 5],\n",
       " [0, 0, 0, 0, 0],\n",
       " [0, 0, 0, 0, 0],\n",
       " [0, 0, 0, 0, 0],\n",
       " [0, 0, 0, 0, 0]]"
      ]
     },
     "execution_count": 62,
     "metadata": {},
     "output_type": "execute_result"
    }
   ],
   "source": [
    "matr[0] = go_hor(matr,0, 1, False)[0]\n",
    "matr"
   ]
  },
  {
   "cell_type": "code",
   "execution_count": 63,
   "metadata": {},
   "outputs": [
    {
     "data": {
      "text/plain": [
       "[[1, 2, 3, 4, 5],\n",
       " [0, 0, 0, 0, 6],\n",
       " [0, 0, 0, 0, 7],\n",
       " [0, 0, 0, 0, 8],\n",
       " [0, 0, 0, 0, 9]]"
      ]
     },
     "execution_count": 63,
     "metadata": {},
     "output_type": "execute_result"
    }
   ],
   "source": [
    "matr = go_vert(matr, 6, False)[0]\n",
    "matr"
   ]
  },
  {
   "cell_type": "code",
   "execution_count": 64,
   "metadata": {},
   "outputs": [
    {
     "data": {
      "text/plain": [
       "[[1, 2, 3, 4, 5],\n",
       " [0, 0, 0, 0, 6],\n",
       " [0, 0, 0, 0, 7],\n",
       " [0, 0, 0, 0, 8],\n",
       " [13, 12, 11, 10, 9]]"
      ]
     },
     "execution_count": 64,
     "metadata": {},
     "output_type": "execute_result"
    }
   ],
   "source": [
    "matr[-1] = go_hor(matr, -1, 10, True)[0]\n",
    "matr"
   ]
  },
  {
   "cell_type": "code",
   "execution_count": 65,
   "metadata": {},
   "outputs": [
    {
     "data": {
      "text/plain": [
       "[[1, 2, 3, 4, 5],\n",
       " [16, 0, 0, 0, 6],\n",
       " [15, 0, 0, 0, 7],\n",
       " [14, 0, 0, 0, 8],\n",
       " [13, 12, 11, 10, 9]]"
      ]
     },
     "execution_count": 65,
     "metadata": {},
     "output_type": "execute_result"
    }
   ],
   "source": [
    "matr = go_vert(matr, 14, True)[0]\n",
    "matr"
   ]
  },
  {
   "cell_type": "code",
   "execution_count": 66,
   "metadata": {},
   "outputs": [
    {
     "data": {
      "text/plain": [
       "[[1, 2, 3, 4, 5],\n",
       " [16, 17, 18, 19, 6],\n",
       " [15, 0, 0, 0, 7],\n",
       " [14, 0, 0, 0, 8],\n",
       " [13, 12, 11, 10, 9]]"
      ]
     },
     "execution_count": 66,
     "metadata": {},
     "output_type": "execute_result"
    }
   ],
   "source": [
    "matr[1] = go_hor(matr, 1, 17, False)[0]\n",
    "matr"
   ]
  },
  {
   "cell_type": "code",
   "execution_count": 67,
   "metadata": {},
   "outputs": [
    {
     "data": {
      "text/plain": [
       "[[1, 2, 3, 4, 5],\n",
       " [16, 17, 18, 19, 6],\n",
       " [15, 0, 0, 20, 7],\n",
       " [14, 0, 0, 21, 8],\n",
       " [13, 12, 11, 10, 9]]"
      ]
     },
     "execution_count": 67,
     "metadata": {},
     "output_type": "execute_result"
    }
   ],
   "source": [
    "matr = go_vert(matr, 20, False)[0]\n",
    "matr"
   ]
  },
  {
   "cell_type": "code",
   "execution_count": 68,
   "metadata": {},
   "outputs": [
    {
     "data": {
      "text/plain": [
       "[[1, 2, 3, 4, 5],\n",
       " [16, 17, 18, 19, 6],\n",
       " [15, 0, 22, 20, 7],\n",
       " [15, 23, 22, 20, 7],\n",
       " [13, 12, 11, 10, 9]]"
      ]
     },
     "execution_count": 68,
     "metadata": {},
     "output_type": "execute_result"
    }
   ],
   "source": [
    "matr[-2] = go_hor(matr, 2, 22, True)[0]\n",
    "matr"
   ]
  },
  {
   "cell_type": "code",
   "execution_count": 69,
   "metadata": {},
   "outputs": [
    {
     "data": {
      "text/plain": [
       "[[1, 2, 3, 4, 5],\n",
       " [16, 17, 18, 19, 6],\n",
       " [15, 25, 22, 20, 7],\n",
       " [15, 23, 22, 20, 7],\n",
       " [13, 12, 11, 10, 9]]"
      ]
     },
     "execution_count": 69,
     "metadata": {},
     "output_type": "execute_result"
    }
   ],
   "source": [
    "matr = go_vert(matr, 24, True)[0]\n",
    "matr"
   ]
  },
  {
   "cell_type": "code",
   "execution_count": null,
   "metadata": {},
   "outputs": [],
   "source": []
  }
 ],
 "metadata": {
  "kernelspec": {
   "display_name": "Python 3",
   "language": "python",
   "name": "python3"
  },
  "language_info": {
   "codemirror_mode": {
    "name": "ipython",
    "version": 3
   },
   "file_extension": ".py",
   "mimetype": "text/x-python",
   "name": "python",
   "nbconvert_exporter": "python",
   "pygments_lexer": "ipython3",
   "version": "3.4.3"
  }
 },
 "nbformat": 4,
 "nbformat_minor": 2
}
