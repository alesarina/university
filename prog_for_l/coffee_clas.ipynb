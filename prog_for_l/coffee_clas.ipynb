{
 "cells": [
  {
   "cell_type": "markdown",
   "metadata": {},
   "source": [
    "# ООП\n"
   ]
  },
  {
   "cell_type": "markdown",
   "metadata": {},
   "source": [
    "При поиске атрибутов двигаемся вверх и влево."
   ]
  },
  {
   "cell_type": "markdown",
   "metadata": {},
   "source": [
    "Инкапсуляция  \n",
    "объединение данных и методов в классе и скрывание деталей реализации от пользователя  \n",
    "Полиморфизм  \n",
    "одна и та же функция для разных классов работает по-разному (пример: + в Питоне)"
   ]
  },
  {
   "cell_type": "code",
   "execution_count": 6,
   "metadata": {},
   "outputs": [],
   "source": [
    "from coffee_place import Coffee, Barista, Admin"
   ]
  },
  {
   "cell_type": "code",
   "execution_count": 7,
   "metadata": {},
   "outputs": [],
   "source": [
    "kirinaga = Coffee('Kenia', 'medium', 'fruity')\n",
    "limu = Coffee('Ephiopia', 'light', 'sour')\n",
    "montanari = Coffee('Brasil', 'light', 'sweet')\n",
    "pilikhan = Coffee('Sumatra', 'dark', 'smoke')"
   ]
  },
  {
   "cell_type": "code",
   "execution_count": 8,
   "metadata": {},
   "outputs": [],
   "source": [
    "nastya = Barista('Nastya', 'pourover', '', '', '')\n",
    "maxim = Barista('Maxim', 'kemex', '', '', '')\n",
    "alex = Barista('Alexander', 'aeropress', '', '', '')"
   ]
  },
  {
   "cell_type": "code",
   "execution_count": 9,
   "metadata": {},
   "outputs": [],
   "source": [
    "maya = Admin('Maya', '', '', '', '', [])"
   ]
  },
  {
   "cell_type": "code",
   "execution_count": 10,
   "metadata": {},
   "outputs": [],
   "source": [
    "maya.hire(nastya)\n",
    "maya.hire(maxim)\n",
    "maya.hire(alex)"
   ]
  },
  {
   "cell_type": "code",
   "execution_count": 11,
   "metadata": {},
   "outputs": [
    {
     "data": {
      "text/plain": [
       "['Nastya', 'Maxim', 'Alexander']"
      ]
     },
     "execution_count": 11,
     "metadata": {},
     "output_type": "execute_result"
    }
   ],
   "source": [
    "maya.workers"
   ]
  },
  {
   "cell_type": "code",
   "execution_count": 12,
   "metadata": {},
   "outputs": [
    {
     "name": "stdout",
     "output_type": "stream",
     "text": [
      "Hello, my name is Nastya, I am your barista today\n"
     ]
    }
   ],
   "source": [
    "nastya.say_hello()"
   ]
  },
  {
   "cell_type": "code",
   "execution_count": 13,
   "metadata": {},
   "outputs": [
    {
     "name": "stdout",
     "output_type": "stream",
     "text": [
      "Ephiopia tastes sour, Ephiopia is roasted light\n"
     ]
    }
   ],
   "source": [
    "nastya.describe_coffee(limu)"
   ]
  },
  {
   "cell_type": "code",
   "execution_count": 14,
   "metadata": {},
   "outputs": [
    {
     "name": "stdout",
     "output_type": "stream",
     "text": [
      "I will cook you Brasil using pourover\n"
     ]
    }
   ],
   "source": [
    "nastya.cook_coffee(montanari)"
   ]
  },
  {
   "cell_type": "code",
   "execution_count": 15,
   "metadata": {},
   "outputs": [
    {
     "name": "stdout",
     "output_type": "stream",
     "text": [
      "Today I will roast the Sumatra coffee dark\n"
     ]
    }
   ],
   "source": [
    "maya.provide_coffee(pilikhan)"
   ]
  }
 ],
 "metadata": {
  "kernelspec": {
   "display_name": "Python 3",
   "language": "python",
   "name": "python3"
  },
  "language_info": {
   "codemirror_mode": {
    "name": "ipython",
    "version": 3
   },
   "file_extension": ".py",
   "mimetype": "text/x-python",
   "name": "python",
   "nbconvert_exporter": "python",
   "pygments_lexer": "ipython3",
   "version": "3.6.4"
  }
 },
 "nbformat": 4,
 "nbformat_minor": 2
}
