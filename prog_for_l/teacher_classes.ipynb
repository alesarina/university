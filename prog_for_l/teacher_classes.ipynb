{
 "cells": [
  {
   "cell_type": "code",
   "execution_count": 132,
   "metadata": {},
   "outputs": [],
   "source": [
    "class Student:\n",
    "    number = 0\n",
    "    \n",
    "    def __init__(self, name, age, group, subjects):\n",
    "        self.name = name\n",
    "        self.age = age\n",
    "        self.group = group\n",
    "        self.subjects = subjects\n",
    "    def add_student(self):\n",
    "        Student.number += 1\n",
    "        print(Student.number)\n",
    "    def add_subject(self, subject):\n",
    "        self.subjects += [subject]\n",
    "        print(self.subjects)"
   ]
  },
  {
   "cell_type": "code",
   "execution_count": 133,
   "metadata": {},
   "outputs": [],
   "source": [
    "class Teacher(Student):\n",
    "    def __init__(self, name, age, group, subjects, work_id):\n",
    "        self.work_id = work_id\n",
    "        super(Teacher, self).__init__(name, age, group, subjects)\n",
    "    \n",
    "    def teach(self, subject):\n",
    "        print(subject + ' for ' + self.group)"
   ]
  },
  {
   "cell_type": "code",
   "execution_count": 134,
   "metadata": {},
   "outputs": [],
   "source": [
    "class Headmaster(Teacher):\n",
    "    def __init__(self, name, age, group, subjects, work_id, teachers):\n",
    "        super(Headmaster, self).__init__(name, age, group, subjects, work_id)\n",
    "        self.teachers = teachers\n",
    "        \n",
    "    def teach(self, subject):\n",
    "        print(subject + ' for ' + self.group)\n",
    "    def hire_teacher(self, teacher):\n",
    "        self.teachers += [teacher.name]\n",
    "        print(self.teachers)\n",
    "    def assign_id(self, teacher, work_id):\n",
    "        teacher.work_id = work_id\n",
    "        print(teacher.work_id + ' for ' + teacher.name)"
   ]
  },
  {
   "cell_type": "code",
   "execution_count": 135,
   "metadata": {},
   "outputs": [
    {
     "name": "stdout",
     "output_type": "stream",
     "text": [
      "1\n"
     ]
    }
   ],
   "source": [
    "mark = Student('Mark', 18, '15FPL', [])\n",
    "mark.add_student()"
   ]
  },
  {
   "cell_type": "code",
   "execution_count": 136,
   "metadata": {},
   "outputs": [
    {
     "name": "stdout",
     "output_type": "stream",
     "text": [
      "2\n"
     ]
    }
   ],
   "source": [
    "kate = Student('Kate', 22, '15FPL', [])\n",
    "kate.add_student()"
   ]
  },
  {
   "cell_type": "code",
   "execution_count": 137,
   "metadata": {},
   "outputs": [
    {
     "name": "stdout",
     "output_type": "stream",
     "text": [
      "['maths']\n",
      "['linguistics']\n"
     ]
    }
   ],
   "source": [
    "mark.add_subject('maths')\n",
    "kate.add_subject('linguistics')"
   ]
  },
  {
   "cell_type": "code",
   "execution_count": 138,
   "metadata": {},
   "outputs": [
    {
     "name": "stdout",
     "output_type": "stream",
     "text": [
      "maths for 15FPL\n"
     ]
    }
   ],
   "source": [
    "mi = Teacher('Marivanna', 45, '15FPL', 'maths', [])\n",
    "mi.teach('maths')"
   ]
  },
  {
   "cell_type": "code",
   "execution_count": 139,
   "metadata": {},
   "outputs": [
    {
     "name": "stdout",
     "output_type": "stream",
     "text": [
      "linguistics for 15FPL\n"
     ]
    }
   ],
   "source": [
    "vg = Teacher('Valentin', 28, '15FPL', 'linguistics', [])\n",
    "vg.teach('linguistics')"
   ]
  },
  {
   "cell_type": "code",
   "execution_count": 140,
   "metadata": {},
   "outputs": [],
   "source": [
    "at = Headmaster('Anatoly', 66, '15FPL', [], '01', [])"
   ]
  },
  {
   "cell_type": "code",
   "execution_count": 141,
   "metadata": {},
   "outputs": [
    {
     "name": "stdout",
     "output_type": "stream",
     "text": [
      "['Valentin']\n"
     ]
    }
   ],
   "source": [
    "at.hire_teacher(vg)"
   ]
  },
  {
   "cell_type": "code",
   "execution_count": 142,
   "metadata": {},
   "outputs": [
    {
     "name": "stdout",
     "output_type": "stream",
     "text": [
      "['Valentin', 'Marivanna']\n"
     ]
    }
   ],
   "source": [
    "at.hire_teacher(mi)"
   ]
  },
  {
   "cell_type": "code",
   "execution_count": 96,
   "metadata": {},
   "outputs": [
    {
     "name": "stdout",
     "output_type": "stream",
     "text": [
      "02 for Valentin\n"
     ]
    }
   ],
   "source": [
    "at.assign_id(vg, '02')"
   ]
  },
  {
   "cell_type": "code",
   "execution_count": 97,
   "metadata": {},
   "outputs": [
    {
     "name": "stdout",
     "output_type": "stream",
     "text": [
      "034 for Marivanna\n"
     ]
    }
   ],
   "source": [
    "at.assign_id(mi, '034')"
   ]
  },
  {
   "cell_type": "code",
   "execution_count": null,
   "metadata": {},
   "outputs": [],
   "source": []
  }
 ],
 "metadata": {
  "kernelspec": {
   "display_name": "Python 3",
   "language": "python",
   "name": "python3"
  },
  "language_info": {
   "codemirror_mode": {
    "name": "ipython",
    "version": 3
   },
   "file_extension": ".py",
   "mimetype": "text/x-python",
   "name": "python",
   "nbconvert_exporter": "python",
   "pygments_lexer": "ipython3",
   "version": "3.4.3"
  }
 },
 "nbformat": 4,
 "nbformat_minor": 2
}
