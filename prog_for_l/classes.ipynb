{
 "cells": [
  {
   "cell_type": "code",
   "execution_count": 1,
   "metadata": {},
   "outputs": [],
   "source": [
    "class Student:\n",
    "    number = 0\n",
    "    \n",
    "    def __init__(self, name, age, group, subjects):\n",
    "        self.name = name\n",
    "        self.age = age\n",
    "        self.group = group\n",
    "        self.subjects = subjects\n",
    "        \n",
    "    def add_student(self):\n",
    "        Student.number +=1\n",
    "        print(Student.number)\n",
    "    \n",
    "    def add_subject(self, subject):\n",
    "        self.subjects += [subject]\n",
    "        print(self.subjects)"
   ]
  },
  {
   "cell_type": "code",
   "execution_count": 2,
   "metadata": {},
   "outputs": [
    {
     "name": "stdout",
     "output_type": "stream",
     "text": [
      "1\n"
     ]
    }
   ],
   "source": [
    "mark = Student('Mark', 18, '15FPL', [])\n",
    "mark.add_student()"
   ]
  },
  {
   "cell_type": "code",
   "execution_count": 3,
   "metadata": {},
   "outputs": [
    {
     "name": "stdout",
     "output_type": "stream",
     "text": [
      "2\n"
     ]
    }
   ],
   "source": [
    "kate = Student('Kate', 18, '15FPL', [])\n",
    "kate.add_student()"
   ]
  },
  {
   "cell_type": "code",
   "execution_count": 4,
   "metadata": {},
   "outputs": [
    {
     "name": "stdout",
     "output_type": "stream",
     "text": [
      "['Math']\n"
     ]
    }
   ],
   "source": [
    "mark.add_subject('Math')"
   ]
  },
  {
   "cell_type": "code",
   "execution_count": 5,
   "metadata": {},
   "outputs": [],
   "source": [
    "class Teacher(Student):\n",
    "    def __init__(self, name, age, group, subjects, work_id):\n",
    "        self.work_id = work_id\n",
    "        super(Teacher, self).__init__(name, age, group, subjects)\n",
    "        \n",
    "    def teach(self, subject):\n",
    "        print (subject + ' for ' + self.group)"
   ]
  },
  {
   "cell_type": "code",
   "execution_count": 6,
   "metadata": {},
   "outputs": [],
   "source": [
    "anna = Teacher('Anna', 35, '', [], 0)"
   ]
  },
  {
   "cell_type": "code",
   "execution_count": 7,
   "metadata": {},
   "outputs": [],
   "source": [
    "alina = Teacher('Alina', 30, '', [], 0)"
   ]
  },
  {
   "cell_type": "code",
   "execution_count": 8,
   "metadata": {},
   "outputs": [],
   "source": [
    "class Headmaster(Teacher):\n",
    "    number = 1\n",
    "    \n",
    "    def __init__(self, name, age, group, subjects, work_id):\n",
    "        super(Headmaster, self).__init__(name, age, group, subjects, work_id)\n",
    "        \n",
    "    def hire_teacher(self, teacher, group, subjects, work_id):\n",
    "        teacher.group = group\n",
    "        teacher.subjects = subjects\n",
    "        Headmaster.number +=1\n",
    "        teacher.work_id = Headmaster.number\n",
    "        print ('A ' + str(teacher.age) + ' years old ' + str(teacher.name) + ' is hired on the position of ' + subjects + ' teacher in ' + group)\n",
    "        print (str(teacher.name) + \"'s work id is \" + str(teacher.work_id))"
   ]
  },
  {
   "cell_type": "code",
   "execution_count": 9,
   "metadata": {},
   "outputs": [
    {
     "name": "stdout",
     "output_type": "stream",
     "text": [
      "A 35 years old Anna is hired on the position of Math teacher in 15FPL\n",
      "Anna's work id is 2\n"
     ]
    }
   ],
   "source": [
    "peter = Headmaster('Peter', 50, '-', [], 1)\n",
    "teacher = anna\n",
    "peter.hire_teacher(teacher, '15FPL', 'Math', '') "
   ]
  },
  {
   "cell_type": "code",
   "execution_count": 10,
   "metadata": {},
   "outputs": [
    {
     "name": "stdout",
     "output_type": "stream",
     "text": [
      "A 30 years old Alina is hired on the position of German language teacher in 15FPL\n",
      "Alina's work id is 3\n"
     ]
    }
   ],
   "source": [
    "teacher = alina\n",
    "peter.hire_teacher(teacher, '15FPL', 'German language', '')"
   ]
  },
  {
   "cell_type": "code",
   "execution_count": 11,
   "metadata": {},
   "outputs": [
    {
     "name": "stdout",
     "output_type": "stream",
     "text": [
      "A 23 years old Matthew is hired on the position of NPL teacher in 15FPL\n",
      "Matthew's work id is 4\n"
     ]
    }
   ],
   "source": [
    "matthew = Teacher('Matthew', 23, '', [], 0)\n",
    "teacher = matthew\n",
    "peter.hire_teacher(teacher, '15FPL', 'NPL', '')"
   ]
  },
  {
   "cell_type": "code",
   "execution_count": null,
   "metadata": {},
   "outputs": [],
   "source": []
  }
 ],
 "metadata": {
  "kernelspec": {
   "display_name": "Python 3",
   "language": "python",
   "name": "python3"
  },
  "language_info": {
   "codemirror_mode": {
    "name": "ipython",
    "version": 3
   },
   "file_extension": ".py",
   "mimetype": "text/x-python",
   "name": "python",
   "nbconvert_exporter": "python",
   "pygments_lexer": "ipython3",
   "version": "3.6.4"
  }
 },
 "nbformat": 4,
 "nbformat_minor": 2
}
