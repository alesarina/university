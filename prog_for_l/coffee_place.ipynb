{
 "cells": [
  {
   "cell_type": "code",
   "execution_count": 55,
   "metadata": {},
   "outputs": [],
   "source": [
    "class Coffee:\n",
    "    def __init__(self, country, roast, taste):\n",
    "        self.country = country\n",
    "        self.roast = roast\n",
    "        self.taste = taste\n",
    "    def taste_coffee(self):\n",
    "        return self.country + ' tastes ' + self.taste\n",
    "    def roast_coffee(self):\n",
    "        return self.country + ' is roasted ' + self.roast"
   ]
  },
  {
   "cell_type": "code",
   "execution_count": 56,
   "metadata": {},
   "outputs": [
    {
     "data": {
      "text/plain": [
       "'Kenia tastes fruity'"
      ]
     },
     "execution_count": 56,
     "metadata": {},
     "output_type": "execute_result"
    }
   ],
   "source": [
    "kirinaga = Coffee('Kenia', 'medium', 'fruity')\n",
    "kirinaga.taste_coffee()"
   ]
  },
  {
   "cell_type": "code",
   "execution_count": 57,
   "metadata": {},
   "outputs": [
    {
     "data": {
      "text/plain": [
       "'Kenia is roasted medium'"
      ]
     },
     "execution_count": 57,
     "metadata": {},
     "output_type": "execute_result"
    }
   ],
   "source": [
    "kirinaga.roast_coffee()"
   ]
  },
  {
   "cell_type": "code",
   "execution_count": 58,
   "metadata": {},
   "outputs": [],
   "source": [
    "limu = Coffee('Ephiopia', 'light', 'sour')\n",
    "montanari = Coffee('Brasil', 'light', 'sweet')\n",
    "pilikhan = Coffee('Sumatra', 'dark', 'smoke')"
   ]
  },
  {
   "cell_type": "code",
   "execution_count": 59,
   "metadata": {},
   "outputs": [],
   "source": [
    "class Barista(Coffee):\n",
    "    def __init__(self, name, method, country, roast, taste):\n",
    "        self.name = name\n",
    "        self.method = method\n",
    "        super(Barista, self).__init__(country, roast, taste)\n",
    "    def say_hello(self):\n",
    "        print('Hello, my name is ' + self.name + ', I am your barista today')\n",
    "    def cook_coffee(self, coffee):\n",
    "        print('I will cook you ' + coffee.country + ' using ' + self.method)\n",
    "    def describe_coffee(self, coffee):\n",
    "        tst = coffee.taste_coffee()\n",
    "        rst = coffee.roast_coffee()\n",
    "        print(tst + ', ' + rst)"
   ]
  },
  {
   "cell_type": "code",
   "execution_count": 60,
   "metadata": {},
   "outputs": [
    {
     "name": "stdout",
     "output_type": "stream",
     "text": [
      "Hello, my name is Nastya, I am your barista today\n"
     ]
    }
   ],
   "source": [
    "nastya = Barista('Nastya', 'pourover', '', '', '')\n",
    "nastya.say_hello()"
   ]
  },
  {
   "cell_type": "code",
   "execution_count": 61,
   "metadata": {},
   "outputs": [
    {
     "name": "stdout",
     "output_type": "stream",
     "text": [
      "I will cook you Ephiopia using pourover\n"
     ]
    }
   ],
   "source": [
    "nastya.cook_coffee(limu)"
   ]
  },
  {
   "cell_type": "code",
   "execution_count": 62,
   "metadata": {},
   "outputs": [
    {
     "name": "stdout",
     "output_type": "stream",
     "text": [
      "I will cook you Kenia using pourover\n"
     ]
    }
   ],
   "source": [
    "nastya.cook_coffee(kirinaga)"
   ]
  },
  {
   "cell_type": "code",
   "execution_count": 63,
   "metadata": {},
   "outputs": [
    {
     "name": "stdout",
     "output_type": "stream",
     "text": [
      "Ephiopia tastes sour, Ephiopia is roasted light\n"
     ]
    }
   ],
   "source": [
    "nastya.describe_coffee(limu)"
   ]
  },
  {
   "cell_type": "code",
   "execution_count": 26,
   "metadata": {},
   "outputs": [],
   "source": [
    "maxim = Barista('Maxim', 'kemex', '', '', '')\n",
    "alex = Barista('Alexander', 'aeropress', '', '', '')"
   ]
  },
  {
   "cell_type": "code",
   "execution_count": 27,
   "metadata": {},
   "outputs": [
    {
     "name": "stdout",
     "output_type": "stream",
     "text": [
      "Hello, my name is Alexander, I am your barista today\n"
     ]
    }
   ],
   "source": [
    "alex.say_hello()"
   ]
  },
  {
   "cell_type": "code",
   "execution_count": 28,
   "metadata": {},
   "outputs": [
    {
     "name": "stdout",
     "output_type": "stream",
     "text": [
      "I will cook you Brasil using aeropress\n"
     ]
    }
   ],
   "source": [
    "alex.cook_coffee(montanari)"
   ]
  },
  {
   "cell_type": "code",
   "execution_count": 79,
   "metadata": {},
   "outputs": [],
   "source": [
    "class Admin(Barista):\n",
    "    def __init__(self, name, method, country, roast, taste, workers):\n",
    "        self.workers = workers\n",
    "        super(Admin, self).__init__(name, method, country, roast, taste)\n",
    "    def hire(self, barista):\n",
    "        return self.workers.append(barista.name)\n",
    "    def provide_coffee(self, coffee):\n",
    "        print('Today I will roast the ' + coffee.country + ' coffee ' + coffee.roast)"
   ]
  },
  {
   "cell_type": "code",
   "execution_count": 80,
   "metadata": {},
   "outputs": [],
   "source": [
    "maya = Admin('Maya', '', '', '', '', [])\n",
    "maya.hire(nastya)\n",
    "maya.hire(maxim)\n",
    "maya.hire(alex)"
   ]
  },
  {
   "cell_type": "code",
   "execution_count": 81,
   "metadata": {},
   "outputs": [
    {
     "data": {
      "text/plain": [
       "['Nastya', 'Maxim', 'Alexander']"
      ]
     },
     "execution_count": 81,
     "metadata": {},
     "output_type": "execute_result"
    }
   ],
   "source": [
    "maya.workers"
   ]
  },
  {
   "cell_type": "code",
   "execution_count": 82,
   "metadata": {},
   "outputs": [
    {
     "name": "stdout",
     "output_type": "stream",
     "text": [
      "Today I will roast the Brasil coffee light\n"
     ]
    }
   ],
   "source": [
    "maya.provide_coffee(montanari)"
   ]
  }
 ],
 "metadata": {
  "kernelspec": {
   "display_name": "Python 3",
   "language": "python",
   "name": "python3"
  },
  "language_info": {
   "codemirror_mode": {
    "name": "ipython",
    "version": 3
   },
   "file_extension": ".py",
   "mimetype": "text/x-python",
   "name": "python",
   "nbconvert_exporter": "python",
   "pygments_lexer": "ipython3",
   "version": "3.6.4"
  }
 },
 "nbformat": 4,
 "nbformat_minor": 2
}
