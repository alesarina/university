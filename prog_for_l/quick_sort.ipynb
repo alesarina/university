{
 "cells": [
  {
   "cell_type": "code",
   "execution_count": 2,
   "metadata": {},
   "outputs": [],
   "source": [
    "nums = [1, -45, 0, 762, 100, -45, 5, 1, -0.7, 54, 900, -33, 5.6, 54]"
   ]
  },
  {
   "cell_type": "code",
   "execution_count": 3,
   "metadata": {},
   "outputs": [],
   "source": [
    "import random"
   ]
  },
  {
   "cell_type": "code",
   "execution_count": 4,
   "metadata": {},
   "outputs": [],
   "source": [
    "def quick_sort(nums):\n",
    "    if len(nums) <= 1:\n",
    "        return nums\n",
    "    else:\n",
    "        sel = random.choice(nums)\n",
    "        l_part = []\n",
    "        r_part = []\n",
    "        eqs = []\n",
    "        for n in nums:\n",
    "            if n < sel:\n",
    "                l_part.append(n)\n",
    "            elif n > sel:\n",
    "                r_part.append(n)\n",
    "            else:\n",
    "                eqs.append(n)\n",
    "        return quick_sort(l_part) + eqs + quick_sort(r_part)"
   ]
  },
  {
   "cell_type": "code",
   "execution_count": 5,
   "metadata": {},
   "outputs": [
    {
     "data": {
      "text/plain": [
       "[-45, -45, -33, -0.7, 0, 1, 1, 5, 5.6, 54, 54, 100, 762, 900]"
      ]
     },
     "execution_count": 5,
     "metadata": {},
     "output_type": "execute_result"
    }
   ],
   "source": [
    "quick_sort(nums)"
   ]
  },
  {
   "cell_type": "code",
   "execution_count": null,
   "metadata": {},
   "outputs": [],
   "source": []
  }
 ],
 "metadata": {
  "kernelspec": {
   "display_name": "Python 3",
   "language": "python",
   "name": "python3"
  },
  "language_info": {
   "codemirror_mode": {
    "name": "ipython",
    "version": 3
   },
   "file_extension": ".py",
   "mimetype": "text/x-python",
   "name": "python",
   "nbconvert_exporter": "python",
   "pygments_lexer": "ipython3",
   "version": "3.4.3"
  }
 },
 "nbformat": 4,
 "nbformat_minor": 2
}
