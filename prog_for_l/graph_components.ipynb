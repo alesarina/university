{
 "cells": [
  {
   "cell_type": "code",
   "execution_count": 1,
   "metadata": {},
   "outputs": [],
   "source": [
    "import random"
   ]
  },
  {
   "cell_type": "code",
   "execution_count": 135,
   "metadata": {},
   "outputs": [],
   "source": [
    "graph = {1:[], 2:[], 3:[], 4:[], 5:[], 6:[]}"
   ]
  },
  {
   "cell_type": "code",
   "execution_count": 136,
   "metadata": {},
   "outputs": [],
   "source": [
    "for node in graph.keys():\n",
    "    for i in range(1, len(graph.keys())+1):\n",
    "        if i == node:\n",
    "            graph[node].append(0)\n",
    "        else:\n",
    "            if graph[i] == []:\n",
    "                graph[node].append(random.choice([0,0,0,0,0,0,0,0,1,1]))\n",
    "            else:\n",
    "                graph[node].append(graph[i][node-1])"
   ]
  },
  {
   "cell_type": "code",
   "execution_count": 155,
   "metadata": {},
   "outputs": [
    {
     "data": {
      "text/plain": [
       "{1: [0, 0, 0, 0, 0, 0],\n",
       " 2: [0, 0, 0, 0, 1, 0],\n",
       " 3: [0, 0, 0, 0, 0, 1],\n",
       " 4: [0, 0, 0, 0, 0, 0],\n",
       " 5: [0, 1, 0, 0, 0, 0],\n",
       " 6: [0, 0, 1, 0, 0, 0]}"
      ]
     },
     "execution_count": 155,
     "metadata": {},
     "output_type": "execute_result"
    }
   ],
   "source": [
    "graph"
   ]
  },
  {
   "cell_type": "markdown",
   "metadata": {},
   "source": [
    "Считаем кол-во компонент"
   ]
  },
  {
   "cell_type": "code",
   "execution_count": 152,
   "metadata": {},
   "outputs": [],
   "source": [
    "def find_next(graph, node, comps):\n",
    "    nxt = None\n",
    "    for i in range(1, len(graph.keys())):\n",
    "        if graph[node][i-1] == 1:\n",
    "            if i not in points:\n",
    "                points.append(i)\n",
    "            nxt = list(graph.keys())[i]\n",
    "    if nxt == None:\n",
    "        comps += 1\n",
    "        nxt = node+1\n",
    "    return comps"
   ]
  },
  {
   "cell_type": "code",
   "execution_count": 153,
   "metadata": {},
   "outputs": [],
   "source": [
    "points=[]\n",
    "comps = 1\n",
    "for node in graph.keys():\n",
    "    if node not in points:\n",
    "        points.append(node)\n",
    "    comps = find_next(graph, node, comps)"
   ]
  },
  {
   "cell_type": "code",
   "execution_count": 154,
   "metadata": {},
   "outputs": [
    {
     "data": {
      "text/plain": [
       "4"
      ]
     },
     "execution_count": 154,
     "metadata": {},
     "output_type": "execute_result"
    }
   ],
   "source": [
    "comps"
   ]
  }
 ],
 "metadata": {
  "kernelspec": {
   "display_name": "Python 3",
   "language": "python",
   "name": "python3"
  },
  "language_info": {
   "codemirror_mode": {
    "name": "ipython",
    "version": 3
   },
   "file_extension": ".py",
   "mimetype": "text/x-python",
   "name": "python",
   "nbconvert_exporter": "python",
   "pygments_lexer": "ipython3",
   "version": "3.6.4"
  }
 },
 "nbformat": 4,
 "nbformat_minor": 2
}
