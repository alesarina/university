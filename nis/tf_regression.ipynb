{
 "cells": [
  {
   "cell_type": "markdown",
   "metadata": {},
   "source": [
    "# Задача регрессии"
   ]
  },
  {
   "cell_type": "code",
   "execution_count": 2,
   "metadata": {},
   "outputs": [],
   "source": [
    "import tensorflow as tf\n",
    "import numpy as np"
   ]
  },
  {
   "cell_type": "code",
   "execution_count": 3,
   "metadata": {},
   "outputs": [
    {
     "data": {
      "text/plain": [
       "array([[45.82954989, 85.10848298, 83.57215799,  3.43932033, 89.88980871],\n",
       "       [79.9796513 , 60.46567162, 60.23174231, 77.03352572, 91.74178607],\n",
       "       [85.80681992, 39.60272081, 98.55551146, 78.54239171, 13.59697626],\n",
       "       [98.58507908, 80.90209486, 46.49360849, 39.07642491, 52.42096505],\n",
       "       [ 0.9321601 , 27.10916616, 67.81176993, 49.56516876, 65.70508858]])"
      ]
     },
     "execution_count": 3,
     "metadata": {},
     "output_type": "execute_result"
    }
   ],
   "source": [
    "rand_a = np.random.uniform(0,100,(5,5))\n",
    "rand_a"
   ]
  },
  {
   "cell_type": "code",
   "execution_count": 4,
   "metadata": {},
   "outputs": [
    {
     "data": {
      "text/plain": [
       "array([[50.15137207],\n",
       "       [73.79207145],\n",
       "       [66.15224007],\n",
       "       [78.51940264],\n",
       "       [60.68521872]])"
      ]
     },
     "execution_count": 4,
     "metadata": {},
     "output_type": "execute_result"
    }
   ],
   "source": [
    "rand_b = np.random.uniform(0,100,(5,1))\n",
    "rand_b"
   ]
  },
  {
   "cell_type": "code",
   "execution_count": 9,
   "metadata": {},
   "outputs": [],
   "source": [
    "a = tf.placeholder(tf.float16)\n",
    "b = tf.placeholder(tf.float16)\n",
    "add_op = a+b  #вычислительный граф"
   ]
  },
  {
   "cell_type": "code",
   "execution_count": 10,
   "metadata": {},
   "outputs": [
    {
     "name": "stdout",
     "output_type": "stream",
     "text": [
      "[[ 96.   135.2  133.8   53.6  140.  ]\n",
      " [153.8  134.2  134.   150.9  165.5 ]\n",
      " [152.   105.75 164.8  144.8   79.75]\n",
      " [177.   159.4  125.   117.56 130.9 ]\n",
      " [ 61.62  87.8  128.5  110.25 126.4 ]]\n"
     ]
    }
   ],
   "source": [
    "with tf.Session() as sess:\n",
    "    add_res = sess.run(add_op, feed_dict={a:rand_a, b:rand_b})  #ключ - placeholders, значение - variables\n",
    "    print(add_res)"
   ]
  },
  {
   "cell_type": "code",
   "execution_count": 14,
   "metadata": {},
   "outputs": [],
   "source": [
    "mul_op = a*b"
   ]
  },
  {
   "cell_type": "code",
   "execution_count": 15,
   "metadata": {},
   "outputs": [
    {
     "name": "stdout",
     "output_type": "stream",
     "text": [
      "[[2300.   4268.   4190.    172.5  4508.  ]\n",
      " [5904.   4464.   4444.   5690.   6772.  ]\n",
      " [5676.   2618.   6516.   5196.    899.  ]\n",
      " [7736.   6348.   3650.   3066.   4110.  ]\n",
      " [  56.56 1645.   4116.   3008.   3986.  ]]\n"
     ]
    }
   ],
   "source": [
    "with tf.Session() as sess:\n",
    "    mul_res = sess.run(mul_op, feed_dict={a:rand_a, b:rand_b})\n",
    "    print(mul_res)"
   ]
  },
  {
   "cell_type": "markdown",
   "metadata": {},
   "source": [
    "#### Предскажем, сколько будет зарабатывать студент через несколько лет"
   ]
  },
  {
   "cell_type": "markdown",
   "metadata": {},
   "source": [
    "y = wx + b"
   ]
  },
  {
   "cell_type": "code",
   "execution_count": 20,
   "metadata": {},
   "outputs": [],
   "source": [
    "n_features = 10\n",
    "n_neurons = 3"
   ]
  },
  {
   "cell_type": "code",
   "execution_count": 24,
   "metadata": {},
   "outputs": [],
   "source": [
    "x = tf.placeholder(tf.float32, (None, n_features))"
   ]
  },
  {
   "cell_type": "code",
   "execution_count": 25,
   "metadata": {},
   "outputs": [],
   "source": [
    "b = tf.Variable(tf.zeros([n_neurons]))  #нули по кол-ву нейронов\n",
    "w = tf.Variable(tf.random_normal([n_features, n_neurons]))  #матрица 10х3"
   ]
  },
  {
   "cell_type": "code",
   "execution_count": 26,
   "metadata": {},
   "outputs": [],
   "source": [
    "xw = tf.matmul(x,w)"
   ]
  },
  {
   "cell_type": "code",
   "execution_count": 27,
   "metadata": {},
   "outputs": [],
   "source": [
    "z = tf.add(xw, b)  #добавляем свободный член"
   ]
  },
  {
   "cell_type": "code",
   "execution_count": 29,
   "metadata": {},
   "outputs": [],
   "source": [
    "a = tf.sigmoid(z)"
   ]
  },
  {
   "cell_type": "code",
   "execution_count": 30,
   "metadata": {},
   "outputs": [],
   "source": [
    "init = tf.global_variables_initializer()"
   ]
  },
  {
   "cell_type": "code",
   "execution_count": 35,
   "metadata": {},
   "outputs": [],
   "source": [
    "with tf.Session() as sess:\n",
    "    sess.run(init)\n",
    "    output = sess.run(a, feed_dict={x:np.random.random([1, n_features])})"
   ]
  },
  {
   "cell_type": "code",
   "execution_count": 36,
   "metadata": {},
   "outputs": [
    {
     "data": {
      "text/plain": [
       "array([[0.53789604, 0.92461956, 0.88826925]], dtype=float32)"
      ]
     },
     "execution_count": 36,
     "metadata": {},
     "output_type": "execute_result"
    }
   ],
   "source": [
    "output"
   ]
  },
  {
   "cell_type": "markdown",
   "metadata": {},
   "source": [
    "Вероятности принадлежности человека к классам доходов (высокий/средний/низкий)"
   ]
  },
  {
   "cell_type": "code",
   "execution_count": null,
   "metadata": {},
   "outputs": [],
   "source": []
  }
 ],
 "metadata": {
  "kernelspec": {
   "display_name": "Python 3",
   "language": "python",
   "name": "python3"
  },
  "language_info": {
   "codemirror_mode": {
    "name": "ipython",
    "version": 3
   },
   "file_extension": ".py",
   "mimetype": "text/x-python",
   "name": "python",
   "nbconvert_exporter": "python",
   "pygments_lexer": "ipython3",
   "version": "3.6.4"
  }
 },
 "nbformat": 4,
 "nbformat_minor": 2
}
