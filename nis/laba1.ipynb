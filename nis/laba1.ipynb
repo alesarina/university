{
 "cells": [
  {
   "cell_type": "markdown",
   "metadata": {},
   "source": [
    "# Задание 1"
   ]
  },
  {
   "cell_type": "markdown",
   "metadata": {},
   "source": [
    "#### Задача 2\n",
    "Заданы координаты вершин многоугольника. Определить, имеет ли он пересекающиеся грани, и, если нет, то найти его периметр и площадь."
   ]
  },
  {
   "cell_type": "markdown",
   "metadata": {},
   "source": [
    "Выясним, пересекаются ли грани многоугольника, при помощи алгоритма заметающей прямой:  \n",
    "http://e-maxx.ru/algo/intersecting_segments"
   ]
  },
  {
   "cell_type": "code",
   "execution_count": 6,
   "metadata": {},
   "outputs": [],
   "source": [
    "import math\n",
    "\n",
    "def area(a, b, c):\n",
    "    return (b[0] - a[0]) * (c[1] - a[1]) - (b[1] - a[1]) * (c[0] - a[0])\n",
    "\n",
    "def intersect_1(a, b, c, d):\n",
    "    if (a > b):\n",
    "        a, b = b, a\n",
    "    if (c > d):\n",
    "        c, d = d, c\n",
    "    return max(a, c) <= min(b, d)\n",
    "\n",
    "def intersect(a, b, c, d):\n",
    "    return intersect_1(a[0], b[0], c[0], d[0]) and intersect_1(a[1], b[1], c[1], d[1]) and area(a, b, c) * area(a, b, d) <= 0 and area(c, d, a) * area(c, d, b) <= 0;\n",
    "\n",
    "def length(a, b):\n",
    "    first = b[0] - a[0]\n",
    "    first = first * first\n",
    "\n",
    "    second = b[1] - a[1]\n",
    "    second = second * second\n",
    "\n",
    "    return math.sqrt(first + second)"
   ]
  },
  {
   "cell_type": "code",
   "execution_count": 9,
   "metadata": {},
   "outputs": [
    {
     "name": "stdout",
     "output_type": "stream",
     "text": [
      "Многогранник не имеет пересекающиxся граней\n",
      "Периметр =  7.656854249492381\n",
      "Площадь =  4.0\n"
     ]
    }
   ],
   "source": [
    "if __name__ == \"__main__\":\n",
    "    points = [(1, 2), (2, 3), (3, 2), (3, 1), (2, 0), (1, 1)] #координаты вершин\n",
    "    lines = []\n",
    "\n",
    "    i = 0\n",
    "    while (i < len(points) - 1):\n",
    "        lines.append((points[i], points[i + 1]))\n",
    "        i = i + 1\n",
    "    lines.append((points[len(points) - 1], points[0]))\n",
    "\n",
    "    i = 0\n",
    "    flag = False\n",
    "    while (i < len(lines)):\n",
    "        j = 0\n",
    "        flag = False\n",
    "        while (j < len(lines)):\n",
    "            if (i == j): \n",
    "                j += 1\n",
    "                continue\n",
    "\n",
    "            if (j > 0 and i == (j - 1)): \n",
    "                j += 1\n",
    "                continue\n",
    "            elif ((j - 1) < 0 and (i == len(lines) - 1)): \n",
    "                j += 1\n",
    "                continue\n",
    "\n",
    "            if (i == ((j + 1) % len(lines))): \n",
    "                j += 1\n",
    "                continue\n",
    "            \n",
    "            result = intersect(lines[i][0], lines[i][1], lines[j][0], lines[j][1])\n",
    "            \n",
    "            if (result == True): \n",
    "                flag = True\n",
    "                break\n",
    "\n",
    "            j += 1\n",
    "\n",
    "        if (flag == True):\n",
    "            break\n",
    "        i += 1\n",
    "\n",
    "    if (flag == True):\n",
    "        print(\"Многогранник имеет пересекающиеся грани\")\n",
    "    else:\n",
    "        print(\"Многогранник не имеет пересекающиxся граней\")\n",
    "        \n",
    "        #вычисляем периметр\n",
    "        p = 0\n",
    "        i = 0\n",
    "        while (i < len(lines)):\n",
    "            p = p + length(lines[i][0], lines[i][1])\n",
    "            i += 1\n",
    "        print(\"Периметр = \", p)\n",
    "\n",
    "        #вычисляем площадь по формуле Гаусса\n",
    "        s = 0\n",
    "        i = 0\n",
    "        while (i < len(points)):\n",
    "             result = points[i][0]\n",
    "             \n",
    "             y1 = i + 1\n",
    "             if (y1 == len(points)):\n",
    "                y1 = 0\n",
    "\n",
    "             y2 = i - 1\n",
    "             if (y2 < 0): \n",
    "                y2 = len(points) - 1\n",
    "\n",
    "             result = result * (points[y1][1] - points[y2][1])\n",
    "             s += result\n",
    "             i += 1\n",
    "        s = math.fabs(s);\n",
    "        s /= 2;\n",
    "        print(\"Площадь = \", s)"
   ]
  },
  {
   "cell_type": "markdown",
   "metadata": {},
   "source": [
    "P.S. Не стала делать так, чтобы координаты вершин вводились пользователем: слишком неудобно."
   ]
  }
 ],
 "metadata": {
  "kernelspec": {
   "display_name": "Python 3",
   "language": "python",
   "name": "python3"
  },
  "language_info": {
   "codemirror_mode": {
    "name": "ipython",
    "version": 3
   },
   "file_extension": ".py",
   "mimetype": "text/x-python",
   "name": "python",
   "nbconvert_exporter": "python",
   "pygments_lexer": "ipython3",
   "version": "3.4.3"
  }
 },
 "nbformat": 4,
 "nbformat_minor": 2
}
